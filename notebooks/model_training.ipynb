{
 "cells": [
  {
   "cell_type": "markdown",
   "metadata": {},
   "source": [
    "### Modelo y Evaluacion"
   ]
  },
  {
   "cell_type": "code",
   "execution_count": 17,
   "metadata": {},
   "outputs": [],
   "source": [
    "import pandas as pd\n",
    "from sklearn.model_selection import train_test_split"
   ]
  },
  {
   "cell_type": "code",
   "execution_count": 18,
   "metadata": {},
   "outputs": [
    {
     "data": {
      "text/html": [
       "<div>\n",
       "<style scoped>\n",
       "    .dataframe tbody tr th:only-of-type {\n",
       "        vertical-align: middle;\n",
       "    }\n",
       "\n",
       "    .dataframe tbody tr th {\n",
       "        vertical-align: top;\n",
       "    }\n",
       "\n",
       "    .dataframe thead th {\n",
       "        text-align: right;\n",
       "    }\n",
       "</style>\n",
       "<table border=\"1\" class=\"dataframe\">\n",
       "  <thead>\n",
       "    <tr style=\"text-align: right;\">\n",
       "      <th></th>\n",
       "      <th>log_price</th>\n",
       "      <th>accommodates</th>\n",
       "      <th>bathrooms</th>\n",
       "      <th>bedrooms</th>\n",
       "      <th>beds</th>\n",
       "      <th>price_per_bed</th>\n",
       "      <th>price_per_bedroom</th>\n",
       "      <th>distance_to_center</th>\n",
       "    </tr>\n",
       "  </thead>\n",
       "  <tbody>\n",
       "    <tr>\n",
       "      <th>0</th>\n",
       "      <td>5.010635</td>\n",
       "      <td>0.133333</td>\n",
       "      <td>0.125</td>\n",
       "      <td>0.1</td>\n",
       "      <td>0.055556</td>\n",
       "      <td>0.659259</td>\n",
       "      <td>0.659259</td>\n",
       "      <td>0.505995</td>\n",
       "    </tr>\n",
       "    <tr>\n",
       "      <th>1</th>\n",
       "      <td>5.129899</td>\n",
       "      <td>0.400000</td>\n",
       "      <td>0.125</td>\n",
       "      <td>0.3</td>\n",
       "      <td>0.166667</td>\n",
       "      <td>0.224984</td>\n",
       "      <td>0.224984</td>\n",
       "      <td>0.506475</td>\n",
       "    </tr>\n",
       "    <tr>\n",
       "      <th>2</th>\n",
       "      <td>4.976734</td>\n",
       "      <td>0.266667</td>\n",
       "      <td>0.125</td>\n",
       "      <td>0.1</td>\n",
       "      <td>0.166667</td>\n",
       "      <td>0.218266</td>\n",
       "      <td>0.654799</td>\n",
       "      <td>0.508393</td>\n",
       "    </tr>\n",
       "    <tr>\n",
       "      <th>3</th>\n",
       "      <td>6.620073</td>\n",
       "      <td>0.200000</td>\n",
       "      <td>0.125</td>\n",
       "      <td>0.2</td>\n",
       "      <td>0.111111</td>\n",
       "      <td>0.435508</td>\n",
       "      <td>0.435508</td>\n",
       "      <td>0.996163</td>\n",
       "    </tr>\n",
       "    <tr>\n",
       "      <th>4</th>\n",
       "      <td>4.744932</td>\n",
       "      <td>0.066667</td>\n",
       "      <td>0.125</td>\n",
       "      <td>0.0</td>\n",
       "      <td>0.055556</td>\n",
       "      <td>0.624300</td>\n",
       "      <td>0.521315</td>\n",
       "      <td>0.380815</td>\n",
       "    </tr>\n",
       "  </tbody>\n",
       "</table>\n",
       "</div>"
      ],
      "text/plain": [
       "   log_price  accommodates  bathrooms  bedrooms      beds  price_per_bed  \\\n",
       "0   5.010635      0.133333      0.125       0.1  0.055556       0.659259   \n",
       "1   5.129899      0.400000      0.125       0.3  0.166667       0.224984   \n",
       "2   4.976734      0.266667      0.125       0.1  0.166667       0.218266   \n",
       "3   6.620073      0.200000      0.125       0.2  0.111111       0.435508   \n",
       "4   4.744932      0.066667      0.125       0.0  0.055556       0.624300   \n",
       "\n",
       "   price_per_bedroom  distance_to_center  \n",
       "0           0.659259            0.505995  \n",
       "1           0.224984            0.506475  \n",
       "2           0.654799            0.508393  \n",
       "3           0.435508            0.996163  \n",
       "4           0.521315            0.380815  "
      ]
     },
     "execution_count": 18,
     "metadata": {},
     "output_type": "execute_result"
    }
   ],
   "source": [
    "df = pd.read_csv(r\"C:\\Users\\Paul Tandazo\\Desktop\\PSet2-dataM\\data\\clean\\data_check.csv\") \n",
    "df.head()"
   ]
  },
  {
   "cell_type": "code",
   "execution_count": 19,
   "metadata": {},
   "outputs": [
    {
     "name": "stdout",
     "output_type": "stream",
     "text": [
      "Tamaño de X_train: (59134, 7)\n",
      "Tamaño de X_test: (14784, 7)\n"
     ]
    }
   ],
   "source": [
    "\n",
    "# Definir las características (X) y el objetivo (y)\n",
    "X = df.drop(columns=['log_price'])  # Excluir la columna objetivo\n",
    "y = df['log_price']  # Columna objetivo\n",
    "\n",
    "# Dividir los datos en conjunto de entrenamiento y conjunto de prueba (80% / 20%)\n",
    "X_train, X_test, y_train, y_test = train_test_split(X, y, test_size=0.2, random_state=42)\n",
    "\n",
    "# Verificar las dimensiones de los conjuntos\n",
    "print(f\"Tamaño de X_train: {X_train.shape}\")\n",
    "print(f\"Tamaño de X_test: {X_test.shape}\")\n"
   ]
  },
  {
   "cell_type": "markdown",
   "metadata": {},
   "source": [
    "### Regresión Lineal con Ecuación Normal (implementación propia + LinearRegression de sklearn)"
   ]
  },
  {
   "cell_type": "code",
   "execution_count": 20,
   "metadata": {},
   "outputs": [],
   "source": [
    "import numpy as np\n",
    "from sklearn.linear_model import LinearRegression\n",
    "from sklearn.metrics import mean_squared_error, r2_score"
   ]
  },
  {
   "cell_type": "code",
   "execution_count": 21,
   "metadata": {},
   "outputs": [
    {
     "name": "stdout",
     "output_type": "stream",
     "text": [
      "Implementación propia - MSE: 0.2591627613278307\n",
      "Implementación propia - R²: 0.49669201916022154\n",
      "Sklearn Linear Regression - MSE: 0.2591627613278309\n",
      "Sklearn Linear Regression - R²: 0.4966920191602213\n"
     ]
    }
   ],
   "source": [
    "def linear_regression_normal_equation(X, y):\n",
    "    # Agregar un término de sesgo (columna de unos) a X\n",
    "    X_b = np.c_[np.ones((X.shape[0], 1)), X]\n",
    "    # Calcular los parámetros usando la ecuación normal\n",
    "    theta = np.linalg.inv(X_b.T.dot(X_b)).dot(X_b.T).dot(y)\n",
    "    return theta\n",
    "\n",
    "# Modelo con la ecuación normal\n",
    "theta = linear_regression_normal_equation(X_train, y_train)\n",
    "\n",
    "# Hacer predicciones con el modelo entrenado\n",
    "y_pred_normal = np.c_[np.ones((X_test.shape[0], 1)), X_test].dot(theta)\n",
    "\n",
    "# Evaluar el modelo\n",
    "mse_normal = mean_squared_error(y_test, y_pred_normal)\n",
    "r2_normal = r2_score(y_test, y_pred_normal)\n",
    "\n",
    "print(f\"Implementación propia - MSE: {mse_normal}\")\n",
    "print(f\"Implementación propia - R²: {r2_normal}\")\n",
    "\n",
    "# Ahora con LinearRegression de sklearn\n",
    "model_sklearn = LinearRegression()\n",
    "model_sklearn.fit(X_train, y_train)\n",
    "y_pred_sklearn = model_sklearn.predict(X_test)\n",
    "\n",
    "# Evaluar el modelo de sklearn\n",
    "mse_sklearn = mean_squared_error(y_test, y_pred_sklearn)\n",
    "r2_sklearn = r2_score(y_test, y_pred_sklearn)\n",
    "\n",
    "print(f\"Sklearn Linear Regression - MSE: {mse_sklearn}\")\n",
    "print(f\"Sklearn Linear Regression - R²: {r2_sklearn}\")\n"
   ]
  },
  {
   "cell_type": "markdown",
   "metadata": {},
   "source": [
    "### Regresión Lineal con SVD (implementación propia + LinearRegression de sklearn)"
   ]
  },
  {
   "cell_type": "code",
   "execution_count": 22,
   "metadata": {},
   "outputs": [],
   "source": [
    "from numpy.linalg import svd"
   ]
  },
  {
   "cell_type": "code",
   "execution_count": 23,
   "metadata": {},
   "outputs": [
    {
     "name": "stdout",
     "output_type": "stream",
     "text": [
      "Implementación propia SVD - MSE: 0.25916276132783084\n",
      "Implementación propia SVD - R²: 0.49669201916022143\n",
      "Sklearn Linear Regression (SVD) - MSE: 0.2591627613278309\n",
      "Sklearn Linear Regression (SVD) - R²: 0.4966920191602213\n"
     ]
    }
   ],
   "source": [
    "def linear_regression_svd(X, y):\n",
    "    # Agregar un término de sesgo (columna de unos) a X\n",
    "    X_b = np.c_[np.ones((X.shape[0], 1)), X]\n",
    "    \n",
    "    # Descomposición en valores singulares\n",
    "    U, sigma, Vt = svd(X_b, full_matrices=False)\n",
    "    \n",
    "    # Invertir la matriz diagonal sigma\n",
    "    sigma_inv = np.diag(1 / sigma)\n",
    "    \n",
    "    # Calcular los coeficientes usando la fórmula SVD\n",
    "    theta_svd = Vt.T.dot(sigma_inv).dot(U.T).dot(y)\n",
    "    return theta_svd\n",
    "\n",
    "# Modelo con SVD\n",
    "theta_svd = linear_regression_svd(X_train, y_train)\n",
    "y_pred_svd = np.c_[np.ones((X_test.shape[0], 1)), X_test].dot(theta_svd)\n",
    "\n",
    "# Evaluar el modelo\n",
    "mse_svd = mean_squared_error(y_test, y_pred_svd)\n",
    "r2_svd = r2_score(y_test, y_pred_svd)\n",
    "\n",
    "print(f\"Implementación propia SVD - MSE: {mse_svd}\")\n",
    "print(f\"Implementación propia SVD - R²: {r2_svd}\")\n",
    "\n",
    "# Ahora con LinearRegression de sklearn usando SVD internamente\n",
    "model_sklearn_svd = LinearRegression(fit_intercept=True)\n",
    "model_sklearn_svd.fit(X_train, y_train)\n",
    "y_pred_sklearn_svd = model_sklearn_svd.predict(X_test)\n",
    "\n",
    "# Evaluar el modelo de sklearn\n",
    "mse_sklearn_svd = mean_squared_error(y_test, y_pred_sklearn_svd)\n",
    "r2_sklearn_svd = r2_score(y_test, y_pred_sklearn_svd)\n",
    "\n",
    "print(f\"Sklearn Linear Regression (SVD) - MSE: {mse_sklearn_svd}\")\n",
    "print(f\"Sklearn Linear Regression (SVD) - R²: {r2_sklearn_svd}\")\n"
   ]
  },
  {
   "cell_type": "markdown",
   "metadata": {},
   "source": [
    "###  Regresión Polinomial (PolynomialFeatures + LinearRegression)"
   ]
  },
  {
   "cell_type": "code",
   "execution_count": 24,
   "metadata": {},
   "outputs": [],
   "source": [
    "from sklearn.preprocessing import PolynomialFeatures"
   ]
  },
  {
   "cell_type": "code",
   "execution_count": 25,
   "metadata": {},
   "outputs": [
    {
     "name": "stdout",
     "output_type": "stream",
     "text": [
      "Polynomial Regression - MSE: 0.0056728202281362446\n",
      "Polynomial Regression - R²: 0.9889830788958194\n"
     ]
    }
   ],
   "source": [
    "poly = PolynomialFeatures(degree=2)\n",
    "X_train_poly = poly.fit_transform(X_train)\n",
    "X_test_poly = poly.transform(X_test)\n",
    "\n",
    "# Entrenar el modelo de regresión lineal\n",
    "model_poly = LinearRegression()\n",
    "model_poly.fit(X_train_poly, y_train)\n",
    "\n",
    "# Hacer predicciones\n",
    "y_pred_poly = model_poly.predict(X_test_poly)\n",
    "\n",
    "# Evaluar el modelo\n",
    "mse_poly = mean_squared_error(y_test, y_pred_poly)\n",
    "r2_poly = r2_score(y_test, y_pred_poly)\n",
    "\n",
    "print(f\"Polynomial Regression - MSE: {mse_poly}\")\n",
    "print(f\"Polynomial Regression - R²: {r2_poly}\")\n"
   ]
  },
  {
   "cell_type": "markdown",
   "metadata": {},
   "source": [
    "### Regresión Lineal con Batch Gradient Descent (implementación propia + SGDRegressor en modo batch)"
   ]
  },
  {
   "cell_type": "code",
   "execution_count": 26,
   "metadata": {},
   "outputs": [
    {
     "name": "stdout",
     "output_type": "stream",
     "text": [
      "Batch Gradient Descent - MSE: 0.3566843080910934\n",
      "Batch Gradient Descent - R²: 0.30729994547529427\n"
     ]
    }
   ],
   "source": [
    "def batch_gradient_descent(X, y, learning_rate=0.01, iterations=1000):\n",
    "    # Agregar el término de sesgo\n",
    "    X_b = np.c_[np.ones((X.shape[0], 1)), X]\n",
    "    m = len(X_b)\n",
    "    theta = np.zeros(X_b.shape[1])\n",
    "    \n",
    "    # Gradiente descendente\n",
    "    for _ in range(iterations):\n",
    "        gradients = 2/m * X_b.T.dot(X_b.dot(theta) - y)\n",
    "        theta -= learning_rate * gradients\n",
    "    return theta\n",
    "\n",
    "# Entrenar el modelo usando Batch Gradient Descent\n",
    "theta_bgd = batch_gradient_descent(X_train, y_train)\n",
    "y_pred_bgd = np.c_[np.ones((X_test.shape[0], 1)), X_test].dot(theta_bgd)\n",
    "\n",
    "# Evaluar el modelo\n",
    "mse_bgd = mean_squared_error(y_test, y_pred_bgd)\n",
    "r2_bgd = r2_score(y_test, y_pred_bgd)\n",
    "\n",
    "print(f\"Batch Gradient Descent - MSE: {mse_bgd}\")\n",
    "print(f\"Batch Gradient Descent - R²: {r2_bgd}\")"
   ]
  },
  {
   "cell_type": "code",
   "execution_count": 27,
   "metadata": {},
   "outputs": [],
   "source": [
    "from sklearn.linear_model import SGDRegressor"
   ]
  },
  {
   "cell_type": "code",
   "execution_count": 28,
   "metadata": {},
   "outputs": [
    {
     "name": "stdout",
     "output_type": "stream",
     "text": [
      "SGDRegressor - MSE: 0.2637288588446325\n",
      "SGDRegressor - R²: 0.4878244129126097\n"
     ]
    }
   ],
   "source": [
    "sgd_model = SGDRegressor(max_iter=1000, tol=1e-3)\n",
    "sgd_model.fit(X_train, y_train)\n",
    "y_pred_sgd = sgd_model.predict(X_test)\n",
    "\n",
    "# Evaluar el modelo de SGD\n",
    "mse_sgd = mean_squared_error(y_test, y_pred_sgd)\n",
    "r2_sgd = r2_score(y_test, y_pred_sgd)\n",
    "\n",
    "print(f\"SGDRegressor - MSE: {mse_sgd}\")\n",
    "print(f\"SGDRegressor - R²: {r2_sgd}\")"
   ]
  },
  {
   "cell_type": "markdown",
   "metadata": {},
   "source": [
    "### Lasso Regression (solo uso de Lasso en sklearn)"
   ]
  },
  {
   "cell_type": "code",
   "execution_count": 29,
   "metadata": {},
   "outputs": [],
   "source": [
    "from sklearn.linear_model import Lasso"
   ]
  },
  {
   "cell_type": "code",
   "execution_count": 30,
   "metadata": {},
   "outputs": [
    {
     "name": "stdout",
     "output_type": "stream",
     "text": [
      "Lasso Regression - MSE: 0.5149366954573091\n",
      "Lasso Regression - R²: -3.467752484720421e-05\n"
     ]
    }
   ],
   "source": [
    "lasso_model = Lasso(alpha=0.1)\n",
    "lasso_model.fit(X_train, y_train)\n",
    "\n",
    "# Hacer predicciones\n",
    "y_pred_lasso = lasso_model.predict(X_test)\n",
    "\n",
    "# Evaluar el modelo\n",
    "mse_lasso = mean_squared_error(y_test, y_pred_lasso)\n",
    "r2_lasso = r2_score(y_test, y_pred_lasso)\n",
    "\n",
    "print(f\"Lasso Regression - MSE: {mse_lasso}\")\n",
    "print(f\"Lasso Regression - R²: {r2_lasso}\")"
   ]
  },
  {
   "cell_type": "markdown",
   "metadata": {},
   "source": [
    "### Ridge Regression (solo uso de Ridge en sklearn)"
   ]
  },
  {
   "cell_type": "code",
   "execution_count": 31,
   "metadata": {},
   "outputs": [],
   "source": [
    "from sklearn.linear_model import Ridge"
   ]
  },
  {
   "cell_type": "code",
   "execution_count": 32,
   "metadata": {},
   "outputs": [
    {
     "name": "stdout",
     "output_type": "stream",
     "text": [
      "Ridge Regression - MSE: 0.2591608210105241\n",
      "Ridge Regression - R²: 0.49669578736048614\n"
     ]
    }
   ],
   "source": [
    "# Crear el modelo Ridge\n",
    "ridge_model = Ridge(alpha=0.1)\n",
    "ridge_model.fit(X_train, y_train)\n",
    "\n",
    "# Hacer predicciones\n",
    "y_pred_ridge = ridge_model.predict(X_test)\n",
    "\n",
    "# Evaluar el modelo\n",
    "mse_ridge = mean_squared_error(y_test, y_pred_ridge)\n",
    "r2_ridge = r2_score(y_test, y_pred_ridge)\n",
    "\n",
    "print(f\"Ridge Regression - MSE: {mse_ridge}\")\n",
    "print(f\"Ridge Regression - R²: {r2_ridge}\")"
   ]
  }
 ],
 "metadata": {
  "kernelspec": {
   "display_name": "entorno_1",
   "language": "python",
   "name": "python3"
  },
  "language_info": {
   "codemirror_mode": {
    "name": "ipython",
    "version": 3
   },
   "file_extension": ".py",
   "mimetype": "text/x-python",
   "name": "python",
   "nbconvert_exporter": "python",
   "pygments_lexer": "ipython3",
   "version": "3.10.13"
  }
 },
 "nbformat": 4,
 "nbformat_minor": 2
}
