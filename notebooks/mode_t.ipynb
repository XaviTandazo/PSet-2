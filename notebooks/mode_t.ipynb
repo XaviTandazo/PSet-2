{
 "cells": [
  {
   "cell_type": "code",
   "execution_count": 1,
   "metadata": {},
   "outputs": [],
   "source": [
    "import sys\n",
    "sys.path.append('../src')\n",
    "\n"
   ]
  },
  {
   "cell_type": "code",
   "execution_count": 25,
   "metadata": {},
   "outputs": [],
   "source": [
    "from models import load_data, linear_regression_normal_equation, linear_regression_svd, polynomial_regression, train_sklearn_linear_regression, batch_gradient_descent, train_sgd_regressor, train_lasso_regression, evaluate_model\n",
    "\n",
    "import numpy as np  \n",
    "\n",
    "from sklearn.metrics import mean_squared_error, mean_absolute_error\n",
    "import pandas as pd"
   ]
  },
  {
   "cell_type": "code",
   "execution_count": 5,
   "metadata": {},
   "outputs": [],
   "source": [
    "filepath = ('../data/clean/data_check.csv')\n",
    "X_train, X_test, y_train, y_test = load_data(filepath)"
   ]
  },
  {
   "cell_type": "code",
   "execution_count": 7,
   "metadata": {},
   "outputs": [
    {
     "name": "stdout",
     "output_type": "stream",
     "text": [
      "Ecuación Normal - MSE: 0.2591627613278307, R²: 0.49669201916022154\n"
     ]
    }
   ],
   "source": [
    "# Regresión lineal con ecuación normal\n",
    "theta_ne = linear_regression_normal_equation(X_train, y_train)\n",
    "y_pred_ne = np.c_[np.ones((X_test.shape[0], 1)), X_test].dot(theta_ne)\n",
    "mse_ne, r2_ne = evaluate_model(y_test, y_pred_ne)\n",
    "\n",
    "print(f\"Ecuación Normal - MSE: {mse_ne}, R²: {r2_ne}\")"
   ]
  },
  {
   "cell_type": "code",
   "execution_count": 8,
   "metadata": {},
   "outputs": [
    {
     "name": "stdout",
     "output_type": "stream",
     "text": [
      "SVD - MSE: 0.25916276132783084, R²: 0.49669201916022143\n"
     ]
    }
   ],
   "source": [
    "# Regresión lineal con SVD\n",
    "theta_svd = linear_regression_svd(X_train, y_train)\n",
    "y_pred_svd = np.c_[np.ones((X_test.shape[0], 1)), X_test].dot(theta_svd)\n",
    "mse_svd, r2_svd = evaluate_model(y_test, y_pred_svd)\n",
    "\n",
    "print(f\"SVD - MSE: {mse_svd}, R²: {r2_svd}\")"
   ]
  },
  {
   "cell_type": "code",
   "execution_count": 9,
   "metadata": {},
   "outputs": [
    {
     "name": "stdout",
     "output_type": "stream",
     "text": [
      "Regresión Polinómica - MSE: 0.0056728202281362446, R²: 0.9889830788958194\n"
     ]
    }
   ],
   "source": [
    "# Regresión polinómica\n",
    "model_poly, X_test_poly = polynomial_regression(X_train, X_test, y_train, degree=2)\n",
    "y_pred_poly = model_poly.predict(X_test_poly)\n",
    "mse_poly, r2_poly = evaluate_model(y_test, y_pred_poly)\n",
    "\n",
    "print(f\"Regresión Polinómica - MSE: {mse_poly}, R²: {r2_poly}\")"
   ]
  },
  {
   "cell_type": "code",
   "execution_count": 11,
   "metadata": {},
   "outputs": [
    {
     "name": "stdout",
     "output_type": "stream",
     "text": [
      "Regresión Lineal (sklearn) - MSE: 0.2591627613278309, R²: 0.4966920191602213\n"
     ]
    }
   ],
   "source": [
    "# Regresión lineal con sklearn\n",
    "model_sklearn = train_sklearn_linear_regression(X_train, y_train)\n",
    "y_pred_sklearn = model_sklearn.predict(X_test)\n",
    "mse_sklearn, r2_sklearn = evaluate_model(y_test, y_pred_sklearn)\n",
    "\n",
    "print(f\"Regresión Lineal (sklearn) - MSE: {mse_sklearn}, R²: {r2_sklearn}\")\n"
   ]
  },
  {
   "cell_type": "code",
   "execution_count": 12,
   "metadata": {},
   "outputs": [
    {
     "name": "stdout",
     "output_type": "stream",
     "text": [
      "Descenso de Gradiente - MSE: 0.3566843080910934, R²: 0.30729994547529427\n"
     ]
    }
   ],
   "source": [
    "# Descenso de gradiente por lotes\n",
    "theta_bgd = batch_gradient_descent(X_train, y_train)\n",
    "y_pred_bgd = np.c_[np.ones((X_test.shape[0], 1)), X_test].dot(theta_bgd)\n",
    "mse_bgd, r2_bgd = evaluate_model(y_test, y_pred_bgd)\n",
    "\n",
    "\n",
    "print(f\"Descenso de Gradiente - MSE: {mse_bgd}, R²: {r2_bgd}\")"
   ]
  },
  {
   "cell_type": "code",
   "execution_count": 13,
   "metadata": {},
   "outputs": [
    {
     "name": "stdout",
     "output_type": "stream",
     "text": [
      "SGD - MSE: 0.2637739207239456, R²: 0.48773690032641204\n"
     ]
    }
   ],
   "source": [
    "# Regresión con SGD\n",
    "model_sgd = train_sgd_regressor(X_train, y_train)\n",
    "y_pred_sgd = model_sgd.predict(X_test)\n",
    "mse_sgd, r2_sgd = evaluate_model(y_test, y_pred_sgd)\n",
    "\n",
    "print(f\"SGD - MSE: {mse_sgd}, R²: {r2_sgd}\")"
   ]
  },
  {
   "cell_type": "code",
   "execution_count": 14,
   "metadata": {},
   "outputs": [
    {
     "name": "stdout",
     "output_type": "stream",
     "text": [
      "Lasso - MSE: 0.5149366954573091, R²: -3.467752484720421e-05\n"
     ]
    }
   ],
   "source": [
    "# Regresión con Lasso\n",
    "model_lasso = train_lasso_regression(X_train, y_train, alpha=0.1)\n",
    "y_pred_lasso = model_lasso.predict(X_test)\n",
    "mse_lasso, r2_lasso = evaluate_model(y_test, y_pred_lasso)\n",
    "\n",
    "print(f\"Lasso - MSE: {mse_lasso}, R²: {r2_lasso}\")"
   ]
  }
 ],
 "metadata": {
  "kernelspec": {
   "display_name": "entorno_1",
   "language": "python",
   "name": "python3"
  },
  "language_info": {
   "codemirror_mode": {
    "name": "ipython",
    "version": 3
   },
   "file_extension": ".py",
   "mimetype": "text/x-python",
   "name": "python",
   "nbconvert_exporter": "python",
   "pygments_lexer": "ipython3",
   "version": "3.10.13"
  }
 },
 "nbformat": 4,
 "nbformat_minor": 2
}
